{
 "cells": [
  {
   "cell_type": "markdown",
   "id": "dc87ef42",
   "metadata": {},
   "source": "Prediction of the BTC volatility using LSTM."
  },
  {
   "metadata": {
    "ExecuteTime": {
     "end_time": "2025-05-27T18:32:00.818497Z",
     "start_time": "2025-05-27T18:32:00.810657Z"
    }
   },
   "cell_type": "code",
   "source": [
    "from datetime import datetime\n",
    "\n",
    "import jax\n",
    "import yfinance as yf\n",
    "from flax import nnx\n",
    "import jax.numpy as jnp\n",
    "import pandas as pd\n",
    "import tqdm\n"
   ],
   "id": "c22ec2e69308e2ee",
   "outputs": [],
   "execution_count": 77
  },
  {
   "metadata": {},
   "cell_type": "markdown",
   "source": [
    "\n",
    "Lets first download the data."
   ],
   "id": "c1663cfded12c5e2"
  },
  {
   "metadata": {
    "ExecuteTime": {
     "end_time": "2025-05-27T18:29:41.430056Z",
     "start_time": "2025-05-27T18:29:41.397886Z"
    }
   },
   "cell_type": "code",
   "source": [
    "import os\n",
    "\n",
    "def download_data(ticker: str, start: str, end: str) -> pd.DataFrame:\n",
    "    \"\"\"Download historical data for a given ticker.\"\"\"\n",
    "    # check if the data is already downloaded\n",
    "    if f\"{ticker}_data.csv\" in os.listdir():\n",
    "        print(f\"Data for {ticker} already downloaded.\")\n",
    "        dataframe = pd.read_csv(f\"{ticker}_data.csv\", index_col=0, parse_dates=True, date_format=\"%Y-%m-%d\")\n",
    "        # remove first two rows as they are not needed\n",
    "        dataframe = dataframe.iloc[2:]\n",
    "        # interpret all but the first column as float\n",
    "        for col in dataframe.columns[1:]:\n",
    "            dataframe[col] = pd.to_numeric(dataframe[col], errors='raise')\n",
    "        dataframe['Close'] = pd.to_numeric(dataframe['Close'], errors='raise')\n",
    "        return dataframe\n",
    "\n",
    "\n",
    "    data = yf.download(ticker, start=start, end=end)\n",
    "    # save the data to a CSV file\n",
    "    data.to_csv(f\"{ticker}_data.csv\")\n",
    "\n",
    "    return data\n",
    "\n",
    "\n",
    "btc = download_data('BTC-USD', start='2015-01-01', end='2023-10-01')\n",
    "#btc = yf.download('BTC-USD', start='2015-01-01', end='2023-10-01')\n",
    "btc.info()"
   ],
   "id": "8edd8cc7d7c69cc2",
   "outputs": [
    {
     "name": "stdout",
     "output_type": "stream",
     "text": [
      "Data for BTC-USD already downloaded.\n",
      "<class 'pandas.core.frame.DataFrame'>\n",
      "Index: 3195 entries, 2015-01-01 to 2023-09-30\n",
      "Data columns (total 5 columns):\n",
      " #   Column  Non-Null Count  Dtype  \n",
      "---  ------  --------------  -----  \n",
      " 0   Close   3195 non-null   float64\n",
      " 1   High    3195 non-null   float64\n",
      " 2   Low     3195 non-null   float64\n",
      " 3   Open    3195 non-null   float64\n",
      " 4   Volume  3195 non-null   int64  \n",
      "dtypes: float64(4), int64(1)\n",
      "memory usage: 149.8+ KB\n"
     ]
    }
   ],
   "execution_count": 69
  },
  {
   "metadata": {
    "ExecuteTime": {
     "end_time": "2025-05-27T18:29:41.474275Z",
     "start_time": "2025-05-27T18:29:41.464757Z"
    }
   },
   "cell_type": "code",
   "source": [
    "def calculate_daily_volatility(data: pd.DataFrame, window: int = 30) -> pd.DataFrame:\n",
    "    data['Returns'] = data['Close'].pct_change()\n",
    "    data['Annualized_Volatility'] = data['Returns'].rolling(window=window).std() * (252 ** 0.5)  # Annualize the volatility\n",
    "    return data\n",
    "\n",
    "btc = calculate_daily_volatility(btc)\n",
    "btc = btc.dropna()\n",
    "btc.head()"
   ],
   "id": "cedd6acb40e55a1e",
   "outputs": [
    {
     "data": {
      "text/plain": [
       "                 Close        High         Low        Open    Volume  \\\n",
       "Price                                                                  \n",
       "2015-01-31  217.464005  233.503998  216.309006  226.440994  23348200   \n",
       "2015-02-01  226.972000  231.574005  212.014999  216.867004  29128500   \n",
       "2015-02-02  238.229004  242.175003  222.658997  226.490997  30612100   \n",
       "2015-02-03  227.268005  245.957001  224.483002  237.453995  40783700   \n",
       "2015-02-04  226.852997  230.057999  221.113007  227.511002  26594300   \n",
       "\n",
       "             Returns  Annualized_Volatility  \n",
       "Price                                        \n",
       "2015-01-31 -0.039576               1.189920  \n",
       "2015-02-01  0.043722               1.199454  \n",
       "2015-02-02  0.049596               1.172109  \n",
       "2015-02-03 -0.046010               1.166827  \n",
       "2015-02-04 -0.001826               1.160287  "
      ],
      "text/html": [
       "<div>\n",
       "<style scoped>\n",
       "    .dataframe tbody tr th:only-of-type {\n",
       "        vertical-align: middle;\n",
       "    }\n",
       "\n",
       "    .dataframe tbody tr th {\n",
       "        vertical-align: top;\n",
       "    }\n",
       "\n",
       "    .dataframe thead th {\n",
       "        text-align: right;\n",
       "    }\n",
       "</style>\n",
       "<table border=\"1\" class=\"dataframe\">\n",
       "  <thead>\n",
       "    <tr style=\"text-align: right;\">\n",
       "      <th></th>\n",
       "      <th>Close</th>\n",
       "      <th>High</th>\n",
       "      <th>Low</th>\n",
       "      <th>Open</th>\n",
       "      <th>Volume</th>\n",
       "      <th>Returns</th>\n",
       "      <th>Annualized_Volatility</th>\n",
       "    </tr>\n",
       "    <tr>\n",
       "      <th>Price</th>\n",
       "      <th></th>\n",
       "      <th></th>\n",
       "      <th></th>\n",
       "      <th></th>\n",
       "      <th></th>\n",
       "      <th></th>\n",
       "      <th></th>\n",
       "    </tr>\n",
       "  </thead>\n",
       "  <tbody>\n",
       "    <tr>\n",
       "      <th>2015-01-31</th>\n",
       "      <td>217.464005</td>\n",
       "      <td>233.503998</td>\n",
       "      <td>216.309006</td>\n",
       "      <td>226.440994</td>\n",
       "      <td>23348200</td>\n",
       "      <td>-0.039576</td>\n",
       "      <td>1.189920</td>\n",
       "    </tr>\n",
       "    <tr>\n",
       "      <th>2015-02-01</th>\n",
       "      <td>226.972000</td>\n",
       "      <td>231.574005</td>\n",
       "      <td>212.014999</td>\n",
       "      <td>216.867004</td>\n",
       "      <td>29128500</td>\n",
       "      <td>0.043722</td>\n",
       "      <td>1.199454</td>\n",
       "    </tr>\n",
       "    <tr>\n",
       "      <th>2015-02-02</th>\n",
       "      <td>238.229004</td>\n",
       "      <td>242.175003</td>\n",
       "      <td>222.658997</td>\n",
       "      <td>226.490997</td>\n",
       "      <td>30612100</td>\n",
       "      <td>0.049596</td>\n",
       "      <td>1.172109</td>\n",
       "    </tr>\n",
       "    <tr>\n",
       "      <th>2015-02-03</th>\n",
       "      <td>227.268005</td>\n",
       "      <td>245.957001</td>\n",
       "      <td>224.483002</td>\n",
       "      <td>237.453995</td>\n",
       "      <td>40783700</td>\n",
       "      <td>-0.046010</td>\n",
       "      <td>1.166827</td>\n",
       "    </tr>\n",
       "    <tr>\n",
       "      <th>2015-02-04</th>\n",
       "      <td>226.852997</td>\n",
       "      <td>230.057999</td>\n",
       "      <td>221.113007</td>\n",
       "      <td>227.511002</td>\n",
       "      <td>26594300</td>\n",
       "      <td>-0.001826</td>\n",
       "      <td>1.160287</td>\n",
       "    </tr>\n",
       "  </tbody>\n",
       "</table>\n",
       "</div>"
      ]
     },
     "execution_count": 70,
     "metadata": {},
     "output_type": "execute_result"
    }
   ],
   "execution_count": 70
  },
  {
   "metadata": {
    "ExecuteTime": {
     "end_time": "2025-05-27T18:29:41.535983Z",
     "start_time": "2025-05-27T18:29:41.526507Z"
    }
   },
   "cell_type": "code",
   "source": [
    "# preprocessing the data\n",
    "def scale_dataframe_minus_one_to_one(df: pd.DataFrame, columns_to_scale: list[str]) -> pd.DataFrame:\n",
    "    \"\"\"\n",
    "    Scales all numeric columns in a Pandas DataFrame to the range [-1, 1].\n",
    "\n",
    "    Args:\n",
    "        df: The input Pandas DataFrame.\n",
    "\n",
    "    Returns:\n",
    "        A new Pandas DataFrame with numeric columns scaled to [-1, 1].\n",
    "        Non-numeric columns are returned unchanged.\n",
    "        :param columns_to_scale:\n",
    "    \"\"\"\n",
    "    # Create a copy of the DataFrame to avoid modifying the original\n",
    "    df_scaled = df.copy()\n",
    "\n",
    "    # Iterate over each column in the DataFrame\n",
    "    for column in df_scaled.columns:\n",
    "        # Check if the column is numeric\n",
    "        if pd.api.types.is_numeric_dtype(df_scaled[column]) and column in columns_to_scale:\n",
    "            min_val = df_scaled[column].min()\n",
    "            max_val = df_scaled[column].max()\n",
    "\n",
    "            # Check if min_val and max_val are the same to avoid division by zero\n",
    "            if min_val == max_val:\n",
    "                # If all values are the same, scale them to 0\n",
    "                # (or you could choose -1 or 1, but 0 is neutral)\n",
    "                df_scaled[column] = 0.0\n",
    "            else:\n",
    "                # Apply the scaling formula: 2 * (x - min) / (max - min) - 1\n",
    "                df_scaled[column] = 2 * (df_scaled[column] - min_val) / (max_val - min_val) - 1\n",
    "        else:\n",
    "            # If column is not numeric, print a warning and leave it as is\n",
    "            print(f\"Warning: Column '{column}' is not numeric and will not be scaled.\")\n",
    "\n",
    "    return df_scaled\n",
    "def preprocess_data(data: pd.DataFrame) -> pd.DataFrame:\n",
    "    # To Test the targe will be the index in of the next row\n",
    "    data['Target'] = data['Annualized_Volatility'].shift(-1)  # Shift the target by one row\n",
    "    # Drop the last row as it will have NaN target\n",
    "    data = data.dropna()\n",
    "    # Select relevant features\n",
    "    features = ['Annualized_Volatility']# ['Open', 'High', 'Low', 'Close', 'Volume'] # ggf add annualized volatility\n",
    "\n",
    "    # scale the features between -1 and 1\n",
    "    data = scale_dataframe_minus_one_to_one(data, features)\n",
    "\n",
    "\n",
    "\n",
    "\n",
    "    return data[features + ['Target']]\n",
    "\n",
    "preprocess_data(btc).head(100)"
   ],
   "id": "bcec446a1303a0cc",
   "outputs": [
    {
     "name": "stdout",
     "output_type": "stream",
     "text": [
      "Warning: Column 'Close' is not numeric and will not be scaled.\n",
      "Warning: Column 'High' is not numeric and will not be scaled.\n",
      "Warning: Column 'Low' is not numeric and will not be scaled.\n",
      "Warning: Column 'Open' is not numeric and will not be scaled.\n",
      "Warning: Column 'Volume' is not numeric and will not be scaled.\n",
      "Warning: Column 'Returns' is not numeric and will not be scaled.\n",
      "Warning: Column 'Target' is not numeric and will not be scaled.\n"
     ]
    },
    {
     "data": {
      "text/plain": [
       "            Annualized_Volatility    Target\n",
       "Price                                      \n",
       "2015-01-31               0.611267  1.199454\n",
       "2015-02-01               0.625526  1.172109\n",
       "2015-02-02               0.584628  1.166827\n",
       "2015-02-03               0.576728  1.160287\n",
       "2015-02-04               0.566945  1.157118\n",
       "...                           ...       ...\n",
       "2015-05-06              -0.595789  0.396399\n",
       "2015-05-07              -0.575574  0.394430\n",
       "2015-05-08              -0.578518  0.394868\n",
       "2015-05-09              -0.577864  0.384202\n",
       "2015-05-10              -0.593817  0.384708\n",
       "\n",
       "[100 rows x 2 columns]"
      ],
      "text/html": [
       "<div>\n",
       "<style scoped>\n",
       "    .dataframe tbody tr th:only-of-type {\n",
       "        vertical-align: middle;\n",
       "    }\n",
       "\n",
       "    .dataframe tbody tr th {\n",
       "        vertical-align: top;\n",
       "    }\n",
       "\n",
       "    .dataframe thead th {\n",
       "        text-align: right;\n",
       "    }\n",
       "</style>\n",
       "<table border=\"1\" class=\"dataframe\">\n",
       "  <thead>\n",
       "    <tr style=\"text-align: right;\">\n",
       "      <th></th>\n",
       "      <th>Annualized_Volatility</th>\n",
       "      <th>Target</th>\n",
       "    </tr>\n",
       "    <tr>\n",
       "      <th>Price</th>\n",
       "      <th></th>\n",
       "      <th></th>\n",
       "    </tr>\n",
       "  </thead>\n",
       "  <tbody>\n",
       "    <tr>\n",
       "      <th>2015-01-31</th>\n",
       "      <td>0.611267</td>\n",
       "      <td>1.199454</td>\n",
       "    </tr>\n",
       "    <tr>\n",
       "      <th>2015-02-01</th>\n",
       "      <td>0.625526</td>\n",
       "      <td>1.172109</td>\n",
       "    </tr>\n",
       "    <tr>\n",
       "      <th>2015-02-02</th>\n",
       "      <td>0.584628</td>\n",
       "      <td>1.166827</td>\n",
       "    </tr>\n",
       "    <tr>\n",
       "      <th>2015-02-03</th>\n",
       "      <td>0.576728</td>\n",
       "      <td>1.160287</td>\n",
       "    </tr>\n",
       "    <tr>\n",
       "      <th>2015-02-04</th>\n",
       "      <td>0.566945</td>\n",
       "      <td>1.157118</td>\n",
       "    </tr>\n",
       "    <tr>\n",
       "      <th>...</th>\n",
       "      <td>...</td>\n",
       "      <td>...</td>\n",
       "    </tr>\n",
       "    <tr>\n",
       "      <th>2015-05-06</th>\n",
       "      <td>-0.595789</td>\n",
       "      <td>0.396399</td>\n",
       "    </tr>\n",
       "    <tr>\n",
       "      <th>2015-05-07</th>\n",
       "      <td>-0.575574</td>\n",
       "      <td>0.394430</td>\n",
       "    </tr>\n",
       "    <tr>\n",
       "      <th>2015-05-08</th>\n",
       "      <td>-0.578518</td>\n",
       "      <td>0.394868</td>\n",
       "    </tr>\n",
       "    <tr>\n",
       "      <th>2015-05-09</th>\n",
       "      <td>-0.577864</td>\n",
       "      <td>0.384202</td>\n",
       "    </tr>\n",
       "    <tr>\n",
       "      <th>2015-05-10</th>\n",
       "      <td>-0.593817</td>\n",
       "      <td>0.384708</td>\n",
       "    </tr>\n",
       "  </tbody>\n",
       "</table>\n",
       "<p>100 rows × 2 columns</p>\n",
       "</div>"
      ]
     },
     "execution_count": 71,
     "metadata": {},
     "output_type": "execute_result"
    }
   ],
   "execution_count": 71
  },
  {
   "metadata": {},
   "cell_type": "markdown",
   "source": "Now let's create a simple LSTM model to predict the volatility...",
   "id": "796ac58100bb2e93"
  },
  {
   "metadata": {
    "ExecuteTime": {
     "end_time": "2025-05-27T18:29:41.619647Z",
     "start_time": "2025-05-27T18:29:41.616244Z"
    }
   },
   "cell_type": "code",
   "source": [
    "\n",
    "class LSTM(nnx.Module):\n",
    "    features: int\n",
    "\n",
    "    def __init__(self, features: int, hidden_features: int, *, rngs: jax.random.PRNGKey):\n",
    "        self.rngs, initial_rngs = jax.random.split(rngs)\n",
    "        self.rngs, initial_linear_rngs = jax.random.split(self.rngs)\n",
    "\n",
    "        self.features = features\n",
    "        self.hidden_size = hidden_features\n",
    "\n",
    "        self.lstm_cell = nnx.LSTMCell(\n",
    "            features,  # Number of features in the input\n",
    "            hidden_features,  # Size of the hidden state\n",
    "            rngs=nnx.Rngs(initial_rngs)  # Random number generator for initialization\n",
    "        )\n",
    "        self.lstm_layer = nnx.RNN(\n",
    "            self.lstm_cell,  # The LSTM cell to use\n",
    "            return_carry=False,\n",
    "            rngs=nnx.Rngs(initial_rngs)  # Random number generator for initialization\n",
    "        )\n",
    "     #   self.linear_test = nnx.Linear(features, self.hidden_size, rngs=nnx.Rngs(initial_rngs))  # Linear layer to transform input features\n",
    "        self.linear = nnx.Linear(hidden_features, 1, rngs=nnx.Rngs(initial_linear_rngs))\n",
    "        # Linear layer to output the prediction\n",
    "\n",
    "\n",
    "    def __call__(self, x):\n",
    "        \"\"\"Forward pass of the LSTM model.\"\"\"\n",
    "        y = self.lstm_layer(x)  # Pass the input through the LSTM layer\n",
    "        last_layer_output = y[:, -1, :]\n",
    "        # Get the last output of the LSTM\n",
    "        #last_layer_output = self.linear_test(x)\n",
    "        y = self.linear(last_layer_output)  # Pass through the\n",
    "        return y\n",
    "\n",
    "    def initial_state(self, batch_size: int):\n",
    "        return jnp.zeros((batch_size, self.hidden_size))\n",
    "\n",
    "\n",
    "\n",
    "#model = LSTM(features=1, hidden_features=256, rngs=jax.random.PRNGKey(0))  # 6 features: Open, High, Low, Close, Volume\n",
    "#nnx.display(model)\n"
   ],
   "id": "3455de9a5f310928",
   "outputs": [],
   "execution_count": 72
  },
  {
   "metadata": {
    "ExecuteTime": {
     "end_time": "2025-05-27T18:29:41.688456Z",
     "start_time": "2025-05-27T18:29:41.683417Z"
    }
   },
   "cell_type": "code",
   "source": [
    "import optax\n",
    "\n",
    "\n",
    "# Alright, now lets define some helper functions\n",
    "def compute_metrics(predictions: jnp.ndarray, targets: jnp.ndarray) -> dict:\n",
    "    \"\"\"Compute metrics for the model predictions.\"\"\"\n",
    "    mse = jnp.mean((predictions - targets) ** 2)\n",
    "    mae = jnp.mean(jnp.abs(predictions - targets))\n",
    "    return {'mse': mse, 'mae': mae}\n",
    "\n",
    "def create_training_state(rng: nnx.Rngs) -> tuple[nnx.Module, optax.GradientTransformation]:\n",
    "    \"\"\"Create a training state for the model.\"\"\"\n",
    "    lstm = LSTM(features=6, rngs=rng)\n",
    "    tx = optax.adam(1e-3)\n",
    "    return lstm, tx\n",
    "\n",
    "def loss_fn(model: LSTM, x: jnp.ndarray, y: jnp.ndarray) -> jnp.ndarray:\n",
    "    y_pred = model(x)\n",
    "    return jnp.mean((y_pred - y) ** 2)\n",
    "\n",
    "@nnx.jit  # Automatic state management\n",
    "def train_step(model, optimizer, x, y):\n",
    "  grad_fn = nnx.value_and_grad(loss_fn)  # Compute gradients and loss\n",
    "  loss, grads = grad_fn(model, x, y)  # Compute the loss and gradient\n",
    "  optimizer.update(grads)  # In place updates.\n",
    "  return loss\n",
    "\n",
    "def transform_data_to_training_timeseries(data: pd.DataFrame, window_size: int = 100) -> tuple[jnp.ndarray, jnp.ndarray]:\n",
    "    \"\"\"Transform the DataFrame into a time series format for training.\"\"\"\n",
    "    # Convert DataFrame to JAX array\n",
    "    y = jnp.array(data['Target'])\n",
    "    x_unformatted = jnp.array(data.drop(columns=['Target']))\n",
    "    # Create a rolling timeseries dataset\n",
    "    x = jnp.array([x_unformatted[i:i + window_size] for i in range(len(x_unformatted) - window_size)])\n",
    "    # drop the last window_size rows from y\n",
    "    y = y[window_size:]\n",
    "    return x, y\n",
    "\n",
    "def train_test_split(data: pd.DataFrame, test_size: float = 0.2) -> tuple[pd.DataFrame, pd.DataFrame]:\n",
    "    \"\"\"Split the data into training and testing sets.\"\"\"\n",
    "    split_index = int(len(data) * (1 - test_size))\n",
    "    train_data = data[:split_index]\n",
    "    test_data = data[split_index:]\n",
    "    return train_data, test_data\n"
   ],
   "id": "8341730e5fab40d5",
   "outputs": [],
   "execution_count": 73
  },
  {
   "metadata": {
    "ExecuteTime": {
     "end_time": "2025-05-27T18:33:10.126987Z",
     "start_time": "2025-05-27T18:32:45.781360Z"
    }
   },
   "cell_type": "code",
   "source": [
    "# Now we can run the training loop\n",
    "from sklearn.utils import shuffle\n",
    "\n",
    "def train_model(model, optimizer, X_train: jnp.ndarray, Y_train: jnp.ndarray, epochs: int = 10, batch_size: int = 32):\n",
    "    \"\"\"Train the LSTM model.\"\"\"\n",
    "\n",
    "    # rt DataFrame to JAX array\n",
    "\n",
    "      # Features\n",
    "\n",
    "    for epoch in range(epochs):\n",
    "        for i in tqdm.tqdm(range(0, len(X_train), batch_size)):\n",
    "            x_batch: jnp.array = X_train[i:i + batch_size]\n",
    "            y_batch: jnp.array = Y_train[i:i + batch_size]\n",
    "            loss = train_step(model, optimizer, x_batch, y_batch)\n",
    "        print(f\"Epoch {epoch + 1}, Loss: {loss:.8f}\")\n",
    "\n",
    "\n",
    "\n",
    "lstm = LSTM(features=1,hidden_features=128, rngs=jax.random.PRNGKey(0))\n",
    "optimizer = nnx.Optimizer(lstm, optax.adam(1e-3))  # Using Adam optimizer\n",
    "pre_data = preprocess_data(btc)\n",
    "# Split the data into training and testing sets\n",
    "train_data, test_data = train_test_split(pre_data, test_size=0.2)\n",
    "X_train, y_train = transform_data_to_training_timeseries(train_data)\n",
    "# shuffle the timeseries data\n",
    "shuffled_X_train, shuffled_y_train = shuffle(X_train, y_train, random_state=42)\n",
    "train_model(lstm, optimizer, X_train, y_train, epochs=10, batch_size=32)"
   ],
   "id": "4158c3883412dc64",
   "outputs": [
    {
     "name": "stdout",
     "output_type": "stream",
     "text": [
      "Warning: Column 'Close' is not numeric and will not be scaled.\n",
      "Warning: Column 'High' is not numeric and will not be scaled.\n",
      "Warning: Column 'Low' is not numeric and will not be scaled.\n",
      "Warning: Column 'Open' is not numeric and will not be scaled.\n",
      "Warning: Column 'Volume' is not numeric and will not be scaled.\n",
      "Warning: Column 'Returns' is not numeric and will not be scaled.\n",
      "Warning: Column 'Target' is not numeric and will not be scaled.\n"
     ]
    },
    {
     "name": "stderr",
     "output_type": "stream",
     "text": [
      "100%|██████████| 76/76 [00:03<00:00, 22.28it/s]\n"
     ]
    },
    {
     "name": "stdout",
     "output_type": "stream",
     "text": [
      "Epoch 1, Loss: 0.00667945\n"
     ]
    },
    {
     "name": "stderr",
     "output_type": "stream",
     "text": [
      "100%|██████████| 76/76 [00:01<00:00, 38.61it/s] \n"
     ]
    },
    {
     "name": "stdout",
     "output_type": "stream",
     "text": [
      "Epoch 2, Loss: 0.00114535\n"
     ]
    },
    {
     "name": "stderr",
     "output_type": "stream",
     "text": [
      "100%|██████████| 76/76 [00:01<00:00, 38.55it/s] \n"
     ]
    },
    {
     "name": "stdout",
     "output_type": "stream",
     "text": [
      "Epoch 3, Loss: 0.00114646\n"
     ]
    },
    {
     "name": "stderr",
     "output_type": "stream",
     "text": [
      "100%|██████████| 76/76 [00:01<00:00, 38.66it/s] \n"
     ]
    },
    {
     "name": "stdout",
     "output_type": "stream",
     "text": [
      "Epoch 4, Loss: 0.00110012\n"
     ]
    },
    {
     "name": "stderr",
     "output_type": "stream",
     "text": [
      "100%|██████████| 76/76 [00:01<00:00, 38.73it/s] \n"
     ]
    },
    {
     "name": "stdout",
     "output_type": "stream",
     "text": [
      "Epoch 5, Loss: 0.00117463\n"
     ]
    },
    {
     "name": "stderr",
     "output_type": "stream",
     "text": [
      "100%|██████████| 76/76 [00:01<00:00, 38.60it/s] \n"
     ]
    },
    {
     "name": "stdout",
     "output_type": "stream",
     "text": [
      "Epoch 6, Loss: 0.00126218\n"
     ]
    },
    {
     "name": "stderr",
     "output_type": "stream",
     "text": [
      "100%|██████████| 76/76 [00:01<00:00, 38.30it/s] \n"
     ]
    },
    {
     "name": "stdout",
     "output_type": "stream",
     "text": [
      "Epoch 7, Loss: 0.00134571\n"
     ]
    },
    {
     "name": "stderr",
     "output_type": "stream",
     "text": [
      "100%|██████████| 76/76 [00:01<00:00, 38.89it/s] \n"
     ]
    },
    {
     "name": "stdout",
     "output_type": "stream",
     "text": [
      "Epoch 8, Loss: 0.00141937\n"
     ]
    },
    {
     "name": "stderr",
     "output_type": "stream",
     "text": [
      "100%|██████████| 76/76 [00:01<00:00, 38.66it/s] \n"
     ]
    },
    {
     "name": "stdout",
     "output_type": "stream",
     "text": [
      "Epoch 9, Loss: 0.00148175\n"
     ]
    },
    {
     "name": "stderr",
     "output_type": "stream",
     "text": [
      "100%|██████████| 76/76 [00:01<00:00, 38.73it/s] \n"
     ]
    },
    {
     "name": "stdout",
     "output_type": "stream",
     "text": [
      "Epoch 10, Loss: 0.00153588\n"
     ]
    }
   ],
   "execution_count": 79
  },
  {
   "metadata": {
    "ExecuteTime": {
     "end_time": "2025-05-27T18:36:09.178544Z",
     "start_time": "2025-05-27T18:36:08.883004Z"
    }
   },
   "cell_type": "code",
   "source": [
    "# Now we can evaluate the model on the test set\n",
    "def evaluate_model(model: LSTM, data: pd.DataFrame):\n",
    "    \"\"\"Evaluate the model on the test set.\"\"\"\n",
    "    # First, transform the test data into the same format as the training data\n",
    "    x, y = transform_data_to_training_timeseries(data)\n",
    "    print(f\"Test data shape: {x.shape}, Target shape: {y.shape}\")\n",
    "    prediction = model(x)\n",
    "    metrics = compute_metrics(prediction, y)\n",
    "    return metrics, prediction\n",
    "\n",
    "# plot the predictions against the actual values\n",
    "import matplotlib.pyplot as plt\n",
    "def plot_predictions(predictions: jnp.ndarray, targets: jnp.ndarray):\n",
    "    \"\"\"Plot the predictions against the actual values.\"\"\"\n",
    "    plt.figure(figsize=(12, 6))\n",
    "    plt.plot(targets, label='Actual Volatility', color='blue')\n",
    "    plt.plot(predictions, label='Predicted Volatility', color='red')\n",
    "    plt.title('BTC Volatility Prediction')\n",
    "    plt.xlabel('Time')\n",
    "    plt.ylabel('Volatility')\n",
    "    plt.legend()\n",
    "    plt.show()\n",
    "\n",
    "# Evaluate the model on the test set\n",
    "metrics, predictions = evaluate_model(lstm, test_data)\n",
    "# get the last element of every series in predictions\n",
    "  # Get the last element of each series\n",
    "\n",
    "plot_predictions(predictions, test_data['Target'].to_numpy())"
   ],
   "id": "fd80ed829f6db121",
   "outputs": [
    {
     "name": "stdout",
     "output_type": "stream",
     "text": [
      "Test data shape: (533, 100, 1), Target shape: (533,)\n"
     ]
    },
    {
     "data": {
      "text/plain": [
       "<Figure size 1200x600 with 1 Axes>"
      ],
      "image/png": "[encoded data removed]"
     },
     "metadata": {},
     "output_type": "display_data"
    }
   ],
   "execution_count": 81
  },
  {
   "metadata": {},
   "cell_type": "code",
   "source": "",
   "id": "ea7dd9ff29a30a4",
   "outputs": [],
   "execution_count": null
  }
 ],
 "metadata": {
  "kernelspec": {
   "display_name": ".venv",
   "language": "python",
   "name": "python3"
  },
  "language_info": {
   "codemirror_mode": {
    "name": "ipython",
    "version": 3
   },
   "file_extension": ".py",
   "mimetype": "text/x-python",
   "name": "python",
   "nbconvert_exporter": "python",
   "pygments_lexer": "ipython3",
   "version": "3.13.3"
  }
 },
 "nbformat": 4,
 "nbformat_minor": 5
}
