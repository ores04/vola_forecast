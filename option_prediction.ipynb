{
 "cells": [
  {
   "metadata": {
    "ExecuteTime": {
     "end_time": "2025-05-28T18:11:16.989659Z",
     "start_time": "2025-05-28T18:11:16.912511Z"
    }
   },
   "cell_type": "code",
   "source": [
    "import math\n",
    "import scipy"
   ],
   "id": "2efded69ffd0e2ec",
   "outputs": [],
   "execution_count": 2
  },
  {
   "metadata": {},
   "cell_type": "code",
   "outputs": [],
   "execution_count": null,
   "source": [
    "class BinaryOption:\n",
    "    risk_free_rate = 0.05  # Default risk-free rate, can be overridden\n",
    "    def __init__(self, strike_price, premium, expiration, annualizedVolatility=None, underlying_price=None):\n",
    "\n",
    "        self.strike_price = strike_price\n",
    "        self.premium = premium\n",
    "        self.expiration = expiration\n",
    "        self.annualizedVolatility = annualizedVolatility\n",
    "        self.underlying_price = underlying_price\n",
    "\n",
    "    def payoff(self, final_price):\n",
    "        return max(0, final_price - self.strike_price) - self.premium\n",
    "\n",
    "    def calculate_black_scholes_price(self):\n",
    "        \"\"\" This function calculate the Black-Scholes price of a binary option call\"\"\"\n",
    "        if self.annualizedVolatility is None or self.underlying_price is None:\n",
    "            raise ValueError(\"Annualized volatility and underlying price must be provided for Black-Scholes pricing.\")\n",
    "\n",
    "        d_2 = (math.log(self.underlying_price / self.strike_price) +\n",
    "               (self.risk_free_rate - 0.5 * self.annualizedVolatility ** 2) * self.expiration) / (self.annualizedVolatility * math.sqrt(self.expiration))\n",
    "        normal = lambda x :scipy.stats.norm.cdf(x)\n",
    "\n",
    "        return math.exp(-self.risk_free_rate * self.expiration) * normal(d_2)"
   ],
   "id": "initial_id"
  },
  {
   "metadata": {
    "ExecuteTime": {
     "end_time": "2025-05-28T18:11:44.341618Z",
     "start_time": "2025-05-28T18:11:43.820420Z"
    }
   },
   "cell_type": "code",
   "source": [
    "b = (1/8 * 1/252) / (1/4 * (math.sqrt(1/252))) - (1/8 * math.sqrt(1/252))\n",
    "x = scipy.stats.norm.cdf(b)\n",
    "print(x)"
   ],
   "id": "c15f9b036647e79",
   "outputs": [
    {
     "name": "stdout",
     "output_type": "stream",
     "text": [
      "0.5094232491219051\n"
     ]
    }
   ],
   "execution_count": 4
  }
 ],
 "metadata": {
  "kernelspec": {
   "display_name": "Python 3",
   "language": "python",
   "name": "python3"
  },
  "language_info": {
   "codemirror_mode": {
    "name": "ipython",
    "version": 2
   },
   "file_extension": ".py",
   "mimetype": "text/x-python",
   "name": "python",
   "nbconvert_exporter": "python",
   "pygments_lexer": "ipython2",
   "version": "2.7.6"
  }
 },
 "nbformat": 4,
 "nbformat_minor": 5
}
